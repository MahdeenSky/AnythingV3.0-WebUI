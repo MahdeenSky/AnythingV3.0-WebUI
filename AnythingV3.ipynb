{
  "nbformat": 4,
  "nbformat_minor": 0,
  "metadata": {
    "colab": {
      "provenance": [],
      "authorship_tag": "ABX9TyNvSE3JLR6z+cVqJGQiWFPi",
      "include_colab_link": true
    },
    "kernelspec": {
      "name": "python3",
      "display_name": "Python 3"
    },
    "language_info": {
      "name": "python"
    },
    "accelerator": "GPU",
    "gpuClass": "standard"
  },
  "cells": [
    {
      "cell_type": "markdown",
      "metadata": {
        "id": "view-in-github",
        "colab_type": "text"
      },
      "source": [
        "<a href=\"https://colab.research.google.com/github/MahdeenSky/AnythingV3.0-WebUI/blob/main/AnythingV3.ipynb\" target=\"_parent\"><img src=\"https://colab.research.google.com/assets/colab-badge.svg\" alt=\"Open In Colab\"/></a>"
      ]
    },
    {
      "cell_type": "code",
      "execution_count": null,
      "metadata": {
        "id": "242WC3tk0g5G"
      },
      "outputs": [],
      "source": [
        "!git lfs install && git clone https://huggingface.co/spaces/akhaliq/anything-v3.0"
      ]
    },
    {
      "cell_type": "code",
      "source": [
        "!pip3 install -r \"/content/anything-v3.0/requirements.txt\"\n",
        "!pip3 install gradio"
      ],
      "metadata": {
        "id": "uvkQ0sLh1S-0"
      },
      "execution_count": null,
      "outputs": []
    },
    {
      "cell_type": "code",
      "source": [
        "!python3 \"/content/anything-v3.0/app.py\""
      ],
      "metadata": {
        "id": "-iHtfeYf2HzW"
      },
      "execution_count": null,
      "outputs": []
    }
  ]
}